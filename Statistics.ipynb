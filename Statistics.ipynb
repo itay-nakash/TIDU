{
 "cells": [
  {
   "cell_type": "code",
   "execution_count": 3,
   "metadata": {},
   "outputs": [],
   "source": [
    "import pandas as pd\n",
    "import seaborn as sns\n",
    "import matplotlib.pyplot as plt\n",
    "sns.set_style(\"whitegrid\", {'axes.grid' : False})"
   ]
  },
  {
   "cell_type": "code",
   "execution_count": 8,
   "metadata": {},
   "outputs": [],
   "source": [
    "df = pd.read_csv('data_team3 - DIFU.csv')\n",
    "df = df[['type','topic','label']].dropna()\n",
    "\n",
    "# split label column into two columns based on the first character\n",
    "df['numeric_label'] = df['label'].str[0].astype(int)"
   ]
  },
  {
   "cell_type": "code",
   "execution_count": 10,
   "metadata": {},
   "outputs": [
    {
     "data": {
      "text/plain": [
       "Text(0.5, 0, 'Guilt')"
      ]
     },
     "execution_count": 10,
     "metadata": {},
     "output_type": "execute_result"
    },
    {
     "data": {
      "image/png": "[encoded data removed]",
      "text/plain": [
       "<Figure size 576x432 with 1 Axes>"
      ]
     },
     "metadata": {
      "needs_background": "light"
     },
     "output_type": "display_data"
    }
   ],
   "source": [
    "# set figsize\n",
    "plt.figure(figsize=(8, 6))\n",
    "sns.histplot(df, x='numeric_label', discrete=False, common_norm=False,\n",
    "             hue='type', multiple='dodge', stat='proportion')\n",
    "plt.xlabel(\"Guilt\")"
   ]
  },
  {
   "cell_type": "code",
   "execution_count": 14,
   "metadata": {},
   "outputs": [
    {
     "data": {
      "text/html": [
       "<div>\n",
       "<style scoped>\n",
       "    .dataframe tbody tr th:only-of-type {\n",
       "        vertical-align: middle;\n",
       "    }\n",
       "\n",
       "    .dataframe tbody tr th {\n",
       "        vertical-align: top;\n",
       "    }\n",
       "\n",
       "    .dataframe thead th {\n",
       "        text-align: right;\n",
       "    }\n",
       "</style>\n",
       "<table border=\"1\" class=\"dataframe\">\n",
       "  <thead>\n",
       "    <tr style=\"text-align: right;\">\n",
       "      <th></th>\n",
       "      <th>example_id</th>\n",
       "      <th>text</th>\n",
       "      <th>label</th>\n",
       "    </tr>\n",
       "  </thead>\n",
       "  <tbody>\n",
       "    <tr>\n",
       "      <th>0</th>\n",
       "      <td>37_1_1</td>\n",
       "      <td>always pee before sex.</td>\n",
       "      <td>1</td>\n",
       "    </tr>\n",
       "    <tr>\n",
       "      <th>1</th>\n",
       "      <td>39_1_1</td>\n",
       "      <td>ex-gf used me as a place holder, shit on my he...</td>\n",
       "      <td>1</td>\n",
       "    </tr>\n",
       "    <tr>\n",
       "      <th>2</th>\n",
       "      <td>40_1_1</td>\n",
       "      <td>fell for what i thought was someone my age, in...</td>\n",
       "      <td>1</td>\n",
       "    </tr>\n",
       "    <tr>\n",
       "      <th>3</th>\n",
       "      <td>41_1_1</td>\n",
       "      <td>met a girl, visited her, didn't make a move.</td>\n",
       "      <td>3</td>\n",
       "    </tr>\n",
       "    <tr>\n",
       "      <th>4</th>\n",
       "      <td>42_1_1</td>\n",
       "      <td>today was a shit day.</td>\n",
       "      <td>2</td>\n",
       "    </tr>\n",
       "    <tr>\n",
       "      <th>...</th>\n",
       "      <td>...</td>\n",
       "      <td>...</td>\n",
       "      <td>...</td>\n",
       "    </tr>\n",
       "    <tr>\n",
       "      <th>295</th>\n",
       "      <td>395_2_3</td>\n",
       "      <td>so i'm visiting my grandparents and uncle toda...</td>\n",
       "      <td>1</td>\n",
       "    </tr>\n",
       "    <tr>\n",
       "      <th>296</th>\n",
       "      <td>397_2_3</td>\n",
       "      <td>okay let's set the scene. i was about halfway ...</td>\n",
       "      <td>2</td>\n",
       "    </tr>\n",
       "    <tr>\n",
       "      <th>297</th>\n",
       "      <td>399_2_3</td>\n",
       "      <td>this happened when i was 8 years old. a few fa...</td>\n",
       "      <td>2</td>\n",
       "    </tr>\n",
       "    <tr>\n",
       "      <th>298</th>\n",
       "      <td>400_2_3</td>\n",
       "      <td>i work in a community pool and teach swimming ...</td>\n",
       "      <td>3</td>\n",
       "    </tr>\n",
       "    <tr>\n",
       "      <th>299</th>\n",
       "      <td>401_2_3</td>\n",
       "      <td>so this just happened and i am dreading coming...</td>\n",
       "      <td>3</td>\n",
       "    </tr>\n",
       "  </tbody>\n",
       "</table>\n",
       "<p>300 rows × 3 columns</p>\n",
       "</div>"
      ],
      "text/plain": [
       "    example_id                                               text label\n",
       "0       37_1_1                             always pee before sex.     1\n",
       "1       39_1_1  ex-gf used me as a place holder, shit on my he...     1\n",
       "2       40_1_1  fell for what i thought was someone my age, in...     1\n",
       "3       41_1_1       met a girl, visited her, didn't make a move.     3\n",
       "4       42_1_1                              today was a shit day.     2\n",
       "..         ...                                                ...   ...\n",
       "295    395_2_3  so i'm visiting my grandparents and uncle toda...     1\n",
       "296    397_2_3  okay let's set the scene. i was about halfway ...     2\n",
       "297    399_2_3  this happened when i was 8 years old. a few fa...     2\n",
       "298    400_2_3  i work in a community pool and teach swimming ...     3\n",
       "299    401_2_3  so this just happened and i am dreading coming...     3\n",
       "\n",
       "[300 rows x 3 columns]"
      ]
     },
     "execution_count": 14,
     "metadata": {},
     "output_type": "execute_result"
    }
   ],
   "source": [
    "df"
   ]
  },
  {
   "cell_type": "code",
   "execution_count": 16,
   "metadata": {},
   "outputs": [],
   "source": [
    "def split_dataframe(df, target_column, test_size, validation_size, random_state):\n",
    "    # Split the DataFrame into train and test based on the target column\n",
    "    train_df, test_df = train_test_split(df, test_size=test_size, stratify=df[target_column], random_state=random_state)\n",
    "\n",
    "    # Adjust the validation size to maintain balance\n",
    "    validation_size_adjusted = validation_size / (1 - test_size)\n",
    "\n",
    "    # Split the train DataFrame into train and validation based on the target column\n",
    "    train_df, validation_df = train_test_split(train_df, test_size=validation_size_adjusted, stratify=train_df[target_column], random_state=random_state)\n",
    "\n",
    "    return train_df, validation_df, test_df"
   ]
  },
  {
   "cell_type": "code",
   "execution_count": 18,
   "metadata": {},
   "outputs": [],
   "source": [
    "# Define the sizes for test and validation sets\n",
    "test_size = 0.2  # 20% of the data for the test set\n",
    "validation_size = 0.2  # 20% of the remaining data for the validation set\n",
    "\n",
    "# Set the random state for reproducibility\n",
    "random_state = 42\n",
    "\n",
    "# Split the DataFrame into train, validation, and test DataFrames\n",
    "train_df, validation_df, test_df = split_dataframe(df, \"label\", test_size, validation_size, random_state)"
   ]
  },
  {
   "cell_type": "code",
   "execution_count": 20,
   "metadata": {},
   "outputs": [
    {
     "name": "stdout",
     "output_type": "stream",
     "text": [
      "Train length: 180, validation length: 60, test length: 60\n"
     ]
    }
   ],
   "source": [
    "print(f\"Train length: {len(train_df)}, validation length: {len(validation_df)}, test length: {len(test_df)}\")"
   ]
  },
  {
   "cell_type": "code",
   "execution_count": null,
   "metadata": {},
   "outputs": [],
   "source": [
    "train_df.to_csv(\"train.csv\", index=False)\n",
    "validation_df.to_csv(\"val.csv\", index=False)\n",
    "test_df.to_csv(\"test.csv\", index=False)"
   ]
  }
 ],
 "metadata": {
  "kernelspec": {
   "display_name": "IOT",
   "language": "python",
   "name": "python3"
  },
  "language_info": {
   "codemirror_mode": {
    "name": "ipython",
    "version": 3
   },
   "file_extension": ".py",
   "mimetype": "text/x-python",
   "name": "python",
   "nbconvert_exporter": "python",
   "pygments_lexer": "ipython3",
   "version": "3.11.3"
  },
  "orig_nbformat": 4
 },
 "nbformat": 4,
 "nbformat_minor": 2
}
