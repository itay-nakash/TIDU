{
 "cells": [
  {
   "cell_type": "code",
   "execution_count": 5,
   "metadata": {},
   "outputs": [],
   "source": [
    "import pandas as pd\n",
    "import seaborn as sns\n",
    "import matplotlib.pyplot as plt\n",
    "from scipy.stats import kendalltau, pearsonr, spearmanr\n",
    "from sklearn.metrics import confusion_matrix\n",
    "sns.set_style(\"whitegrid\", {'axes.grid' : False})\n",
    "sns.set(rc={'figure.figsize':(11.7,8.27)})"
   ]
  },
  {
   "cell_type": "code",
   "execution_count": 2,
   "metadata": {},
   "outputs": [],
   "source": [
    "df = pd.read_csv('preprocess data/FullDataPart3.csv')\n",
    "# convert labels to number\n",
    "df['label'] = df['label'].apply(lambda l: str(l).replace('. Not guilty', '').replace('. Slightly guilty', '').replace('. Very guilty', '').replace('. Completely guilty', ''))\n",
    "# Convert example id to original-form example id\n",
    "df['example_id'] = df['example_id'].apply(lambda id: int(id.split('_')[0]))\n",
    "# Load original Data\n",
    "df_org = pd.read_csv('./preprocess data/data_team3 - DIFU.csv')[['example_id', 'batch', 'topic', 'type']]\n",
    "# join all the information from the original data (e.g. topic)\n",
    "df = df.join(df_org, on='example_id', how='inner', lsuffix='l_')[['text', 'label', 'batch', 'topic', 'type', 'example_id']]"
   ]
  },
  {
   "cell_type": "code",
   "execution_count": 50,
   "metadata": {},
   "outputs": [],
   "source": [
    "def get_height(values):\n",
    "    heigths = {'1': 0, '2': 0, '3': 0, '4': 0}\n",
    "    for v in values:\n",
    "        heigths[v] += 1\n",
    "    return heigths"
   ]
  },
  {
   "cell_type": "code",
   "execution_count": 57,
   "metadata": {},
   "outputs": [
    {
     "data": {
      "image/png": "[encoded data removed]",
      "text/plain": [
       "<Figure size 842.4x595.44 with 1 Axes>"
      ]
     },
     "metadata": {},
     "output_type": "display_data"
    }
   ],
   "source": [
    "values = df['label'].values\n",
    "hist = get_height(values)\n",
    "\n",
    "# Plot the bar chart with the rearranged categories\n",
    "plt.bar(hist.keys(), hist.values())\n",
    "\n",
    "# Add labels and title\n",
    "plt.xlabel('Label')\n",
    "plt.ylabel('Count')\n",
    "plt.title('All Samples')\n",
    "\n",
    "# Display the plot\n",
    "plt.show()"
   ]
  },
  {
   "cell_type": "code",
   "execution_count": 3,
   "metadata": {},
   "outputs": [],
   "source": [
    "tldr_labels = []\n",
    "fullstory_labels = []\n",
    "for id in df['example_id'].unique():\n",
    "    tldr_label = df[(df['example_id'] == id) & (df['type'] == 'tldr')]\n",
    "    fullstory_label = df[(df['example_id'] == id) & (df['type'] == 'documents')]\n",
    "    tldr_labels.append(tldr_label)\n",
    "    fullstory_labels.append(fullstory_label)"
   ]
  },
  {
   "cell_type": "code",
   "execution_count": 33,
   "metadata": {},
   "outputs": [],
   "source": [
    "def compute_correlation(df, annotator1_name, annotator2_name, round_units=3):\n",
    "\n",
    "    df1 = df[f\"{annotator1_name}_numeric_label\"]\n",
    "    df2 = df[f\"{annotator2_name}_numeric_label\"]\n",
    "    # Compute Kendall's tau\n",
    "    tau, _ = kendalltau(df1, df2)\n",
    "\n",
    "    # Compute Pearson correlation\n",
    "    r, _ = pearsonr(df1, df2)\n",
    "\n",
    "    # Compute Spearman correlation\n",
    "    rho, _ = spearmanr(df1, df2)\n",
    "    # print annotator names and the three correlations in one print statement\n",
    "    print(f'{annotator1_name} and {annotator2_name} have Kendall\\'s tau of {round(tau,round_units)}, Pearson correlation of {round(r,round_units)}, and Spearman correlation of {round(rho,round_units)}.')\n",
    "\n",
    "def compute_confusion(df, annotator1_name, annotator2_name, data_type, annonimuous=True):\n",
    "    df1 = df[f\"{annotator1_name}_numeric_label\"]\n",
    "    df2 = df[f\"{annotator2_name}_numeric_label\"]\n",
    "    # Compute confusion matrix\n",
    "    cm = confusion_matrix(y_true=df1, y_pred=df2)\n",
    "    # number unique labels\n",
    "    num_labels = df1.nunique()\n",
    "    # Define labels for the confusion matrix\n",
    "    if num_labels == 5:\n",
    "        labels = ['Not Guilty', 'Slightly Guilty', 'Moderately Guilty', 'Very Guilty', 'Completely Guilty']\n",
    "    elif num_labels == 4:\n",
    "        labels = ['Not Guilty', 'Slightly Guilty', 'Very Guilty', 'Completely Guilty']\n",
    "        \n",
    "    # Plot confusion matrix as heatmap\n",
    "    s = sns.heatmap(cm, annot=True, cmap='Blues', cbar=False, \n",
    "    xticklabels=labels, yticklabels=labels)\n",
    "    # Add x axis label\n",
    "    s.set_xlabel(annotator1_name if not annonimuous else 'Annotator 1')\n",
    "    # Add y axis label\n",
    "    s.set_ylabel(annotator2_name if not annonimuous else 'Annotator 2')\n",
    "    s.set_title(f'Confusion Matrix - {data_type}')\n",
    "    plt.tight_layout()\n",
    "    # Show plot\n",
    "    plt.savefig('confusion_matrix.png')\n",
    "    plt.show()\n",
    "\n",
    "def load_and_process(path1, path2, annotator1_name, annotator2_name, split_id):\n",
    "        df1 = pd.read_csv(path1)\n",
    "        df2 = pd.read_csv(path2)\n",
    "        # Concatenate columns\n",
    "        df = pd.concat([df1, df2], keys=[annotator1_name, annotator2_name], axis=1)\n",
    "        df = df.dropna()\n",
    "        # split label column into two columns based on the first character\n",
    "        for annotator_name in [annotator1_name, annotator2_name]:\n",
    "            try:\n",
    "                df[(annotator_name,'numeric_label')] = df[(annotator_name,'label')].str[0].astype(int)\n",
    "            except AttributeError:\n",
    "                df[(annotator_name,'numeric_label')] = df[(annotator_name,'label')].astype(int)\n",
    "\n",
    "        df.columns = ['_'.join(col) for col in df.columns.values]\n",
    "        df.rename(columns={f'{annotator1_name}_example_id': 'example_id'}, inplace=True)\n",
    "        if split_id:\n",
    "            df[['base_example_id', 'type', 'topic']] = df['example_id'].str.split('_', expand=True)\n",
    "        return df"
   ]
  },
  {
   "cell_type": "code",
   "execution_count": 34,
   "metadata": {},
   "outputs": [],
   "source": [
    "ANNOT1 = 'Papo'\n",
    "ANNOT2 = 'Sahar'\n",
    "sht_full = load_and_process(path1=f'preprocess data\\DataPart3_{ANNOT1}.csv', \n",
    "                                path2=f'preprocess data\\DataPart3_{ANNOT2}.csv',\n",
    "                                annotator1_name=ANNOT1, annotator2_name=ANNOT2, split_id=False)"
   ]
  },
  {
   "cell_type": "code",
   "execution_count": 35,
   "metadata": {},
   "outputs": [
    {
     "name": "stdout",
     "output_type": "stream",
     "text": [
      "Full story + TL;DR\n",
      "Papo and Sahar have Kendall's tau of 0.142, Pearson correlation of 0.162, and Spearman correlation of 0.162.\n"
     ]
    },
    {
     "data": {
      "image/png": "[encoded data removed]",
      "text/plain": [
       "<Figure size 432x288 with 1 Axes>"
      ]
     },
     "metadata": {
      "needs_background": "light"
     },
     "output_type": "display_data"
    }
   ],
   "source": [
    "for data_type, data_type_name in zip([sht_full], ['Full story + TL;DR']):\n",
    "        print(data_type_name)\n",
    "\n",
    "        compute_correlation(data_type, annotator1_name=ANNOT1, annotator2_name=ANNOT2)\n",
    "        compute_confusion(data_type,  annotator1_name=ANNOT1, annotator2_name=ANNOT2, data_type=data_type_name, annonimuous=False)"
   ]
  }
 ],
 "metadata": {
  "kernelspec": {
   "display_name": "IOT",
   "language": "python",
   "name": "python3"
  },
  "language_info": {
   "codemirror_mode": {
    "name": "ipython",
    "version": 3
   },
   "file_extension": ".py",
   "mimetype": "text/x-python",
   "name": "python",
   "nbconvert_exporter": "python",
   "pygments_lexer": "ipython3",
   "version": "3.11.3"
  },
  "orig_nbformat": 4
 },
 "nbformat": 4,
 "nbformat_minor": 2
}
