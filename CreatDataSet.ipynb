{
 "cells": [
  {
   "cell_type": "code",
   "execution_count": 1,
   "metadata": {},
   "outputs": [],
   "source": [
    "import pandas as pd\n",
    "from sklearn.model_selection import train_test_split"
   ]
  },
  {
   "cell_type": "code",
   "execution_count": 24,
   "metadata": {},
   "outputs": [],
   "source": [
    "# Load preprocessed data\n",
    "df = pd.read_csv('./preprocess data/FullDataPart3.csv')"
   ]
  },
  {
   "cell_type": "code",
   "execution_count": 25,
   "metadata": {},
   "outputs": [],
   "source": [
    "# convert labels to number\n",
    "df['label'] = df['label'].apply(lambda l: str(l).replace('. Not guilty', '').replace('. Slightly guilty', '').replace('. Very guilty', '').replace('. Completely guilty', ''))"
   ]
  },
  {
   "cell_type": "code",
   "execution_count": 26,
   "metadata": {},
   "outputs": [],
   "source": [
    "# Convert example id to original-form example id\n",
    "df['example_id'] = df['example_id'].apply(lambda id: int(id.split('_')[0]))"
   ]
  },
  {
   "cell_type": "code",
   "execution_count": 28,
   "metadata": {},
   "outputs": [],
   "source": [
    "# Load original Data\n",
    "df_org = pd.read_csv('./preprocess data/data_team3 - DIFU.csv')[['example_id', 'batch', 'topic', 'type']]"
   ]
  },
  {
   "cell_type": "code",
   "execution_count": 31,
   "metadata": {},
   "outputs": [],
   "source": [
    "# join all the information from the original data (e.g. topic)\n",
    "df = df.join(df_org, on='example_id', how='inner', lsuffix='l_')[['text', 'label', 'batch', 'topic', 'type']]"
   ]
  },
  {
   "cell_type": "code",
   "execution_count": 32,
   "metadata": {},
   "outputs": [],
   "source": [
    "def split_dataframe(df, target_column, test_size, validation_size, random_state):\n",
    "    # Split the DataFrame into train and test based on the target column\n",
    "    train_df, test_df = train_test_split(df, test_size=test_size, stratify=df[target_column], random_state=random_state)\n",
    "\n",
    "    # Adjust the validation size to maintain balance\n",
    "    validation_size_adjusted = validation_size / (1 - test_size)\n",
    "\n",
    "    # Split the train DataFrame into train and validation based on the target column\n",
    "    train_df, validation_df = train_test_split(train_df, test_size=validation_size_adjusted, stratify=train_df[target_column], random_state=random_state)\n",
    "\n",
    "    return train_df, validation_df, test_df"
   ]
  },
  {
   "cell_type": "code",
   "execution_count": 33,
   "metadata": {},
   "outputs": [],
   "source": [
    "# Define the sizes for test and validation sets\n",
    "test_size = 0.2  # 20% of the data for the test set\n",
    "validation_size = 0.2  # 20% of the remaining data for the validation set\n",
    "\n",
    "# Set the random state for reproducibility\n",
    "random_state = 42\n",
    "\n",
    "# Split the DataFrame into train, validation, and test DataFrames\n",
    "train_df, validation_df, test_df = split_dataframe(df, \"label\", test_size, validation_size, random_state)"
   ]
  },
  {
   "cell_type": "code",
   "execution_count": 34,
   "metadata": {},
   "outputs": [
    {
     "name": "stdout",
     "output_type": "stream",
     "text": [
      "Train length: 180, validation length: 60, test length: 60\n"
     ]
    }
   ],
   "source": [
    "print(f\"Train length: {len(train_df)}, validation length: {len(validation_df)}, test length: {len(test_df)}\")"
   ]
  },
  {
   "cell_type": "code",
   "execution_count": null,
   "metadata": {},
   "outputs": [],
   "source": [
    "train_df.to_csv(\"./data/train.csv\", index=False)\n",
    "validation_df.to_csv(\"./data/val.csv\", index=False)\n",
    "test_df.to_csv(\"./data/test.csv\", index=False)"
   ]
  }
 ],
 "metadata": {
  "kernelspec": {
   "display_name": "IOT",
   "language": "python",
   "name": "python3"
  },
  "language_info": {
   "codemirror_mode": {
    "name": "ipython",
    "version": 3
   },
   "file_extension": ".py",
   "mimetype": "text/x-python",
   "name": "python",
   "nbconvert_exporter": "python",
   "pygments_lexer": "ipython3",
   "version": "3.11.3"
  },
  "orig_nbformat": 4
 },
 "nbformat": 4,
 "nbformat_minor": 2
}
